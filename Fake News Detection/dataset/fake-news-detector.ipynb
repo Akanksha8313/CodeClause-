{
 "cells": [
  {
   "cell_type": "code",
   "execution_count": 1,
   "id": "62520111",
   "metadata": {
    "_cell_guid": "b1076dfc-b9ad-4769-8c92-a6c4dae69d19",
    "_uuid": "8f2839f25d086af736a60e9eeb907d3b93b6e0e5",
    "execution": {
     "iopub.execute_input": "2023-02-05T07:14:21.951185Z",
     "iopub.status.busy": "2023-02-05T07:14:21.950633Z",
     "iopub.status.idle": "2023-02-05T07:14:21.969369Z",
     "shell.execute_reply": "2023-02-05T07:14:21.968390Z"
    },
    "papermill": {
     "duration": 0.030638,
     "end_time": "2023-02-05T07:14:21.971568",
     "exception": false,
     "start_time": "2023-02-05T07:14:21.940930",
     "status": "completed"
    },
    "tags": []
   },
   "outputs": [
    {
     "name": "stdout",
     "output_type": "stream",
     "text": [
      "/kaggle/input/fake-news-detection/True.csv\n",
      "/kaggle/input/fake-news-detection/Fake.csv\n"
     ]
    }
   ],
   "source": [
    "# This Python 3 environment comes with many helpful analytics libraries installed\n",
    "# It is defined by the kaggle/python Docker image: https://github.com/kaggle/docker-python\n",
    "# For example, here's several helpful packages to load\n",
    "\n",
    "import numpy as np # linear algebra\n",
    "import pandas as pd # data processing, CSV file I/O (e.g. pd.read_csv)\n",
    "\n",
    "# Input data files are available in the read-only \"../input/\" directory\n",
    "# For example, running this (by clicking run or pressing Shift+Enter) will list all files under the input directory\n",
    "\n",
    "import os\n",
    "for dirname, _, filenames in os.walk('/kaggle/input'):\n",
    "    for filename in filenames:\n",
    "        print(os.path.join(dirname, filename))\n",
    "\n",
    "# You can write up to 20GB to the current directory (/kaggle/working/) that gets preserved as output when you create a version using \"Save & Run All\" \n",
    "# You can also write temporary files to /kaggle/temp/, but they won't be saved outside of the current session"
   ]
  },
  {
   "cell_type": "markdown",
   "id": "c23d5d56",
   "metadata": {
    "papermill": {
     "duration": 0.006833,
     "end_time": "2023-02-05T07:14:21.985750",
     "exception": false,
     "start_time": "2023-02-05T07:14:21.978917",
     "status": "completed"
    },
    "tags": []
   },
   "source": [
    "# Index\n",
    "* Importing Libraries\n",
    "* Reading csv file\n",
    "* Inserting the status column\n",
    "*  merging the columns\n",
    "*  Cleaning data\n",
    "*  Train test split\n",
    "* Applying LogisticRegression\n",
    "* Accuracy score : 98%"
   ]
  },
  {
   "cell_type": "markdown",
   "id": "013d29d5",
   "metadata": {
    "papermill": {
     "duration": 0.006891,
     "end_time": "2023-02-05T07:14:21.999925",
     "exception": false,
     "start_time": "2023-02-05T07:14:21.993034",
     "status": "completed"
    },
    "tags": []
   },
   "source": [
    "# Importing Libraries"
   ]
  },
  {
   "cell_type": "code",
   "execution_count": 2,
   "id": "c5d2155b",
   "metadata": {
    "execution": {
     "iopub.execute_input": "2023-02-05T07:14:22.015893Z",
     "iopub.status.busy": "2023-02-05T07:14:22.015538Z",
     "iopub.status.idle": "2023-02-05T07:14:23.347865Z",
     "shell.execute_reply": "2023-02-05T07:14:23.346300Z"
    },
    "papermill": {
     "duration": 1.343851,
     "end_time": "2023-02-05T07:14:23.351022",
     "exception": false,
     "start_time": "2023-02-05T07:14:22.007171",
     "status": "completed"
    },
    "tags": []
   },
   "outputs": [],
   "source": [
    "import seaborn as sns\n",
    "import matplotlib.pyplot as plt\n",
    "from sklearn.model_selection import train_test_split\n",
    "from sklearn.metrics import accuracy_score\n",
    "from sklearn.metrics import classification_report\n",
    "import re\n",
    "import string"
   ]
  },
  {
   "cell_type": "markdown",
   "id": "b0c9dc36",
   "metadata": {
    "papermill": {
     "duration": 0.006741,
     "end_time": "2023-02-05T07:14:23.365120",
     "exception": false,
     "start_time": "2023-02-05T07:14:23.358379",
     "status": "completed"
    },
    "tags": []
   },
   "source": [
    "# Reading csv file"
   ]
  },
  {
   "cell_type": "code",
   "execution_count": 3,
   "id": "2d463d22",
   "metadata": {
    "execution": {
     "iopub.execute_input": "2023-02-05T07:14:23.381385Z",
     "iopub.status.busy": "2023-02-05T07:14:23.381012Z",
     "iopub.status.idle": "2023-02-05T07:14:26.013814Z",
     "shell.execute_reply": "2023-02-05T07:14:26.012332Z"
    },
    "papermill": {
     "duration": 2.643651,
     "end_time": "2023-02-05T07:14:26.016248",
     "exception": false,
     "start_time": "2023-02-05T07:14:23.372597",
     "status": "completed"
    },
    "tags": []
   },
   "outputs": [],
   "source": [
    "df0 = pd.read_csv(\"../input/fake-news-detection/Fake.csv\")\n",
    "df1 = pd.read_csv(\"../input/fake-news-detection/True.csv\")"
   ]
  },
  {
   "cell_type": "code",
   "execution_count": 4,
   "id": "07688f92",
   "metadata": {
    "execution": {
     "iopub.execute_input": "2023-02-05T07:14:26.032910Z",
     "iopub.status.busy": "2023-02-05T07:14:26.032580Z",
     "iopub.status.idle": "2023-02-05T07:14:26.051131Z",
     "shell.execute_reply": "2023-02-05T07:14:26.050000Z"
    },
    "papermill": {
     "duration": 0.030215,
     "end_time": "2023-02-05T07:14:26.054123",
     "exception": false,
     "start_time": "2023-02-05T07:14:26.023908",
     "status": "completed"
    },
    "tags": []
   },
   "outputs": [
    {
     "data": {
      "text/html": [
       "<div>\n",
       "<style scoped>\n",
       "    .dataframe tbody tr th:only-of-type {\n",
       "        vertical-align: middle;\n",
       "    }\n",
       "\n",
       "    .dataframe tbody tr th {\n",
       "        vertical-align: top;\n",
       "    }\n",
       "\n",
       "    .dataframe thead th {\n",
       "        text-align: right;\n",
       "    }\n",
       "</style>\n",
       "<table border=\"1\" class=\"dataframe\">\n",
       "  <thead>\n",
       "    <tr style=\"text-align: right;\">\n",
       "      <th></th>\n",
       "      <th>title</th>\n",
       "      <th>text</th>\n",
       "      <th>subject</th>\n",
       "      <th>date</th>\n",
       "    </tr>\n",
       "  </thead>\n",
       "  <tbody>\n",
       "    <tr>\n",
       "      <th>0</th>\n",
       "      <td>Donald Trump Sends Out Embarrassing New Year’...</td>\n",
       "      <td>Donald Trump just couldn t wish all Americans ...</td>\n",
       "      <td>News</td>\n",
       "      <td>December 31, 2017</td>\n",
       "    </tr>\n",
       "    <tr>\n",
       "      <th>1</th>\n",
       "      <td>Drunk Bragging Trump Staffer Started Russian ...</td>\n",
       "      <td>House Intelligence Committee Chairman Devin Nu...</td>\n",
       "      <td>News</td>\n",
       "      <td>December 31, 2017</td>\n",
       "    </tr>\n",
       "    <tr>\n",
       "      <th>2</th>\n",
       "      <td>Sheriff David Clarke Becomes An Internet Joke...</td>\n",
       "      <td>On Friday, it was revealed that former Milwauk...</td>\n",
       "      <td>News</td>\n",
       "      <td>December 30, 2017</td>\n",
       "    </tr>\n",
       "    <tr>\n",
       "      <th>3</th>\n",
       "      <td>Trump Is So Obsessed He Even Has Obama’s Name...</td>\n",
       "      <td>On Christmas day, Donald Trump announced that ...</td>\n",
       "      <td>News</td>\n",
       "      <td>December 29, 2017</td>\n",
       "    </tr>\n",
       "    <tr>\n",
       "      <th>4</th>\n",
       "      <td>Pope Francis Just Called Out Donald Trump Dur...</td>\n",
       "      <td>Pope Francis used his annual Christmas Day mes...</td>\n",
       "      <td>News</td>\n",
       "      <td>December 25, 2017</td>\n",
       "    </tr>\n",
       "  </tbody>\n",
       "</table>\n",
       "</div>"
      ],
      "text/plain": [
       "                                               title  \\\n",
       "0   Donald Trump Sends Out Embarrassing New Year’...   \n",
       "1   Drunk Bragging Trump Staffer Started Russian ...   \n",
       "2   Sheriff David Clarke Becomes An Internet Joke...   \n",
       "3   Trump Is So Obsessed He Even Has Obama’s Name...   \n",
       "4   Pope Francis Just Called Out Donald Trump Dur...   \n",
       "\n",
       "                                                text subject  \\\n",
       "0  Donald Trump just couldn t wish all Americans ...    News   \n",
       "1  House Intelligence Committee Chairman Devin Nu...    News   \n",
       "2  On Friday, it was revealed that former Milwauk...    News   \n",
       "3  On Christmas day, Donald Trump announced that ...    News   \n",
       "4  Pope Francis used his annual Christmas Day mes...    News   \n",
       "\n",
       "                date  \n",
       "0  December 31, 2017  \n",
       "1  December 31, 2017  \n",
       "2  December 30, 2017  \n",
       "3  December 29, 2017  \n",
       "4  December 25, 2017  "
      ]
     },
     "execution_count": 4,
     "metadata": {},
     "output_type": "execute_result"
    }
   ],
   "source": [
    "df0.head()"
   ]
  },
  {
   "cell_type": "code",
   "execution_count": 5,
   "id": "319e3e5c",
   "metadata": {
    "execution": {
     "iopub.execute_input": "2023-02-05T07:14:26.072117Z",
     "iopub.status.busy": "2023-02-05T07:14:26.071740Z",
     "iopub.status.idle": "2023-02-05T07:14:26.083650Z",
     "shell.execute_reply": "2023-02-05T07:14:26.082574Z"
    },
    "papermill": {
     "duration": 0.023572,
     "end_time": "2023-02-05T07:14:26.086263",
     "exception": false,
     "start_time": "2023-02-05T07:14:26.062691",
     "status": "completed"
    },
    "tags": []
   },
   "outputs": [
    {
     "data": {
      "text/html": [
       "<div>\n",
       "<style scoped>\n",
       "    .dataframe tbody tr th:only-of-type {\n",
       "        vertical-align: middle;\n",
       "    }\n",
       "\n",
       "    .dataframe tbody tr th {\n",
       "        vertical-align: top;\n",
       "    }\n",
       "\n",
       "    .dataframe thead th {\n",
       "        text-align: right;\n",
       "    }\n",
       "</style>\n",
       "<table border=\"1\" class=\"dataframe\">\n",
       "  <thead>\n",
       "    <tr style=\"text-align: right;\">\n",
       "      <th></th>\n",
       "      <th>title</th>\n",
       "      <th>text</th>\n",
       "      <th>subject</th>\n",
       "      <th>date</th>\n",
       "    </tr>\n",
       "  </thead>\n",
       "  <tbody>\n",
       "    <tr>\n",
       "      <th>0</th>\n",
       "      <td>As U.S. budget fight looms, Republicans flip t...</td>\n",
       "      <td>WASHINGTON (Reuters) - The head of a conservat...</td>\n",
       "      <td>politicsNews</td>\n",
       "      <td>December 31, 2017</td>\n",
       "    </tr>\n",
       "    <tr>\n",
       "      <th>1</th>\n",
       "      <td>U.S. military to accept transgender recruits o...</td>\n",
       "      <td>WASHINGTON (Reuters) - Transgender people will...</td>\n",
       "      <td>politicsNews</td>\n",
       "      <td>December 29, 2017</td>\n",
       "    </tr>\n",
       "    <tr>\n",
       "      <th>2</th>\n",
       "      <td>Senior U.S. Republican senator: 'Let Mr. Muell...</td>\n",
       "      <td>WASHINGTON (Reuters) - The special counsel inv...</td>\n",
       "      <td>politicsNews</td>\n",
       "      <td>December 31, 2017</td>\n",
       "    </tr>\n",
       "    <tr>\n",
       "      <th>3</th>\n",
       "      <td>FBI Russia probe helped by Australian diplomat...</td>\n",
       "      <td>WASHINGTON (Reuters) - Trump campaign adviser ...</td>\n",
       "      <td>politicsNews</td>\n",
       "      <td>December 30, 2017</td>\n",
       "    </tr>\n",
       "    <tr>\n",
       "      <th>4</th>\n",
       "      <td>Trump wants Postal Service to charge 'much mor...</td>\n",
       "      <td>SEATTLE/WASHINGTON (Reuters) - President Donal...</td>\n",
       "      <td>politicsNews</td>\n",
       "      <td>December 29, 2017</td>\n",
       "    </tr>\n",
       "  </tbody>\n",
       "</table>\n",
       "</div>"
      ],
      "text/plain": [
       "                                               title  \\\n",
       "0  As U.S. budget fight looms, Republicans flip t...   \n",
       "1  U.S. military to accept transgender recruits o...   \n",
       "2  Senior U.S. Republican senator: 'Let Mr. Muell...   \n",
       "3  FBI Russia probe helped by Australian diplomat...   \n",
       "4  Trump wants Postal Service to charge 'much mor...   \n",
       "\n",
       "                                                text       subject  \\\n",
       "0  WASHINGTON (Reuters) - The head of a conservat...  politicsNews   \n",
       "1  WASHINGTON (Reuters) - Transgender people will...  politicsNews   \n",
       "2  WASHINGTON (Reuters) - The special counsel inv...  politicsNews   \n",
       "3  WASHINGTON (Reuters) - Trump campaign adviser ...  politicsNews   \n",
       "4  SEATTLE/WASHINGTON (Reuters) - President Donal...  politicsNews   \n",
       "\n",
       "                 date  \n",
       "0  December 31, 2017   \n",
       "1  December 29, 2017   \n",
       "2  December 31, 2017   \n",
       "3  December 30, 2017   \n",
       "4  December 29, 2017   "
      ]
     },
     "execution_count": 5,
     "metadata": {},
     "output_type": "execute_result"
    }
   ],
   "source": [
    "df1.head()"
   ]
  },
  {
   "cell_type": "markdown",
   "id": "37f6c96f",
   "metadata": {
    "papermill": {
     "duration": 0.008898,
     "end_time": "2023-02-05T07:14:26.103126",
     "exception": false,
     "start_time": "2023-02-05T07:14:26.094228",
     "status": "completed"
    },
    "tags": []
   },
   "source": [
    "# Inserting the status column"
   ]
  },
  {
   "cell_type": "code",
   "execution_count": 6,
   "id": "a1476de5",
   "metadata": {
    "execution": {
     "iopub.execute_input": "2023-02-05T07:14:26.121725Z",
     "iopub.status.busy": "2023-02-05T07:14:26.121336Z",
     "iopub.status.idle": "2023-02-05T07:14:26.132087Z",
     "shell.execute_reply": "2023-02-05T07:14:26.130778Z"
    },
    "papermill": {
     "duration": 0.022855,
     "end_time": "2023-02-05T07:14:26.134492",
     "exception": false,
     "start_time": "2023-02-05T07:14:26.111637",
     "status": "completed"
    },
    "tags": []
   },
   "outputs": [],
   "source": [
    "df0[\"status\"] = 0\n",
    "df1[\"status\"] = 1"
   ]
  },
  {
   "cell_type": "code",
   "execution_count": 7,
   "id": "16b1f6d3",
   "metadata": {
    "execution": {
     "iopub.execute_input": "2023-02-05T07:14:26.151939Z",
     "iopub.status.busy": "2023-02-05T07:14:26.151519Z",
     "iopub.status.idle": "2023-02-05T07:14:26.159413Z",
     "shell.execute_reply": "2023-02-05T07:14:26.157590Z"
    },
    "papermill": {
     "duration": 0.019361,
     "end_time": "2023-02-05T07:14:26.161634",
     "exception": false,
     "start_time": "2023-02-05T07:14:26.142273",
     "status": "completed"
    },
    "tags": []
   },
   "outputs": [
    {
     "data": {
      "text/plain": [
       "(23481, 5)"
      ]
     },
     "execution_count": 7,
     "metadata": {},
     "output_type": "execute_result"
    }
   ],
   "source": [
    "df0.shape"
   ]
  },
  {
   "cell_type": "code",
   "execution_count": 8,
   "id": "5530f691",
   "metadata": {
    "execution": {
     "iopub.execute_input": "2023-02-05T07:14:26.179882Z",
     "iopub.status.busy": "2023-02-05T07:14:26.179399Z",
     "iopub.status.idle": "2023-02-05T07:14:26.186923Z",
     "shell.execute_reply": "2023-02-05T07:14:26.185849Z"
    },
    "papermill": {
     "duration": 0.019887,
     "end_time": "2023-02-05T07:14:26.189649",
     "exception": false,
     "start_time": "2023-02-05T07:14:26.169762",
     "status": "completed"
    },
    "tags": []
   },
   "outputs": [
    {
     "data": {
      "text/plain": [
       "(21417, 5)"
      ]
     },
     "execution_count": 8,
     "metadata": {},
     "output_type": "execute_result"
    }
   ],
   "source": [
    "df1.shape"
   ]
  },
  {
   "cell_type": "markdown",
   "id": "f5f8e00b",
   "metadata": {
    "papermill": {
     "duration": 0.007795,
     "end_time": "2023-02-05T07:14:26.205608",
     "exception": false,
     "start_time": "2023-02-05T07:14:26.197813",
     "status": "completed"
    },
    "tags": []
   },
   "source": [
    "# merging the columns"
   ]
  },
  {
   "cell_type": "code",
   "execution_count": 9,
   "id": "6a2559d0",
   "metadata": {
    "execution": {
     "iopub.execute_input": "2023-02-05T07:14:26.223168Z",
     "iopub.status.busy": "2023-02-05T07:14:26.222750Z",
     "iopub.status.idle": "2023-02-05T07:14:26.240405Z",
     "shell.execute_reply": "2023-02-05T07:14:26.239277Z"
    },
    "papermill": {
     "duration": 0.0288,
     "end_time": "2023-02-05T07:14:26.242390",
     "exception": false,
     "start_time": "2023-02-05T07:14:26.213590",
     "status": "completed"
    },
    "tags": []
   },
   "outputs": [
    {
     "data": {
      "text/html": [
       "<div>\n",
       "<style scoped>\n",
       "    .dataframe tbody tr th:only-of-type {\n",
       "        vertical-align: middle;\n",
       "    }\n",
       "\n",
       "    .dataframe tbody tr th {\n",
       "        vertical-align: top;\n",
       "    }\n",
       "\n",
       "    .dataframe thead th {\n",
       "        text-align: right;\n",
       "    }\n",
       "</style>\n",
       "<table border=\"1\" class=\"dataframe\">\n",
       "  <thead>\n",
       "    <tr style=\"text-align: right;\">\n",
       "      <th></th>\n",
       "      <th>title</th>\n",
       "      <th>text</th>\n",
       "      <th>subject</th>\n",
       "      <th>date</th>\n",
       "      <th>status</th>\n",
       "    </tr>\n",
       "  </thead>\n",
       "  <tbody>\n",
       "    <tr>\n",
       "      <th>0</th>\n",
       "      <td>Donald Trump Sends Out Embarrassing New Year’...</td>\n",
       "      <td>Donald Trump just couldn t wish all Americans ...</td>\n",
       "      <td>News</td>\n",
       "      <td>December 31, 2017</td>\n",
       "      <td>0</td>\n",
       "    </tr>\n",
       "    <tr>\n",
       "      <th>1</th>\n",
       "      <td>Drunk Bragging Trump Staffer Started Russian ...</td>\n",
       "      <td>House Intelligence Committee Chairman Devin Nu...</td>\n",
       "      <td>News</td>\n",
       "      <td>December 31, 2017</td>\n",
       "      <td>0</td>\n",
       "    </tr>\n",
       "    <tr>\n",
       "      <th>2</th>\n",
       "      <td>Sheriff David Clarke Becomes An Internet Joke...</td>\n",
       "      <td>On Friday, it was revealed that former Milwauk...</td>\n",
       "      <td>News</td>\n",
       "      <td>December 30, 2017</td>\n",
       "      <td>0</td>\n",
       "    </tr>\n",
       "    <tr>\n",
       "      <th>3</th>\n",
       "      <td>Trump Is So Obsessed He Even Has Obama’s Name...</td>\n",
       "      <td>On Christmas day, Donald Trump announced that ...</td>\n",
       "      <td>News</td>\n",
       "      <td>December 29, 2017</td>\n",
       "      <td>0</td>\n",
       "    </tr>\n",
       "    <tr>\n",
       "      <th>4</th>\n",
       "      <td>Pope Francis Just Called Out Donald Trump Dur...</td>\n",
       "      <td>Pope Francis used his annual Christmas Day mes...</td>\n",
       "      <td>News</td>\n",
       "      <td>December 25, 2017</td>\n",
       "      <td>0</td>\n",
       "    </tr>\n",
       "    <tr>\n",
       "      <th>5</th>\n",
       "      <td>Racist Alabama Cops Brutalize Black Boy While...</td>\n",
       "      <td>The number of cases of cops brutalizing and ki...</td>\n",
       "      <td>News</td>\n",
       "      <td>December 25, 2017</td>\n",
       "      <td>0</td>\n",
       "    </tr>\n",
       "    <tr>\n",
       "      <th>6</th>\n",
       "      <td>Fresh Off The Golf Course, Trump Lashes Out A...</td>\n",
       "      <td>Donald Trump spent a good portion of his day a...</td>\n",
       "      <td>News</td>\n",
       "      <td>December 23, 2017</td>\n",
       "      <td>0</td>\n",
       "    </tr>\n",
       "    <tr>\n",
       "      <th>7</th>\n",
       "      <td>Trump Said Some INSANELY Racist Stuff Inside ...</td>\n",
       "      <td>In the wake of yet another court decision that...</td>\n",
       "      <td>News</td>\n",
       "      <td>December 23, 2017</td>\n",
       "      <td>0</td>\n",
       "    </tr>\n",
       "    <tr>\n",
       "      <th>8</th>\n",
       "      <td>Former CIA Director Slams Trump Over UN Bully...</td>\n",
       "      <td>Many people have raised the alarm regarding th...</td>\n",
       "      <td>News</td>\n",
       "      <td>December 22, 2017</td>\n",
       "      <td>0</td>\n",
       "    </tr>\n",
       "    <tr>\n",
       "      <th>9</th>\n",
       "      <td>WATCH: Brand-New Pro-Trump Ad Features So Muc...</td>\n",
       "      <td>Just when you might have thought we d get a br...</td>\n",
       "      <td>News</td>\n",
       "      <td>December 21, 2017</td>\n",
       "      <td>0</td>\n",
       "    </tr>\n",
       "  </tbody>\n",
       "</table>\n",
       "</div>"
      ],
      "text/plain": [
       "                                               title  \\\n",
       "0   Donald Trump Sends Out Embarrassing New Year’...   \n",
       "1   Drunk Bragging Trump Staffer Started Russian ...   \n",
       "2   Sheriff David Clarke Becomes An Internet Joke...   \n",
       "3   Trump Is So Obsessed He Even Has Obama’s Name...   \n",
       "4   Pope Francis Just Called Out Donald Trump Dur...   \n",
       "5   Racist Alabama Cops Brutalize Black Boy While...   \n",
       "6   Fresh Off The Golf Course, Trump Lashes Out A...   \n",
       "7   Trump Said Some INSANELY Racist Stuff Inside ...   \n",
       "8   Former CIA Director Slams Trump Over UN Bully...   \n",
       "9   WATCH: Brand-New Pro-Trump Ad Features So Muc...   \n",
       "\n",
       "                                                text subject  \\\n",
       "0  Donald Trump just couldn t wish all Americans ...    News   \n",
       "1  House Intelligence Committee Chairman Devin Nu...    News   \n",
       "2  On Friday, it was revealed that former Milwauk...    News   \n",
       "3  On Christmas day, Donald Trump announced that ...    News   \n",
       "4  Pope Francis used his annual Christmas Day mes...    News   \n",
       "5  The number of cases of cops brutalizing and ki...    News   \n",
       "6  Donald Trump spent a good portion of his day a...    News   \n",
       "7  In the wake of yet another court decision that...    News   \n",
       "8  Many people have raised the alarm regarding th...    News   \n",
       "9  Just when you might have thought we d get a br...    News   \n",
       "\n",
       "                date  status  \n",
       "0  December 31, 2017       0  \n",
       "1  December 31, 2017       0  \n",
       "2  December 30, 2017       0  \n",
       "3  December 29, 2017       0  \n",
       "4  December 25, 2017       0  \n",
       "5  December 25, 2017       0  \n",
       "6  December 23, 2017       0  \n",
       "7  December 23, 2017       0  \n",
       "8  December 22, 2017       0  \n",
       "9  December 21, 2017       0  "
      ]
     },
     "execution_count": 9,
     "metadata": {},
     "output_type": "execute_result"
    }
   ],
   "source": [
    "df_merge = pd.concat([df0, df1], axis =0 )\n",
    "df_merge.head(10)"
   ]
  },
  {
   "cell_type": "code",
   "execution_count": 10,
   "id": "194cd3e9",
   "metadata": {
    "execution": {
     "iopub.execute_input": "2023-02-05T07:14:26.261295Z",
     "iopub.status.busy": "2023-02-05T07:14:26.260104Z",
     "iopub.status.idle": "2023-02-05T07:14:26.267192Z",
     "shell.execute_reply": "2023-02-05T07:14:26.265782Z"
    },
    "papermill": {
     "duration": 0.018803,
     "end_time": "2023-02-05T07:14:26.269403",
     "exception": false,
     "start_time": "2023-02-05T07:14:26.250600",
     "status": "completed"
    },
    "tags": []
   },
   "outputs": [
    {
     "data": {
      "text/plain": [
       "Index(['title', 'text', 'subject', 'date', 'status'], dtype='object')"
      ]
     },
     "execution_count": 10,
     "metadata": {},
     "output_type": "execute_result"
    }
   ],
   "source": [
    "df_merge.columns"
   ]
  },
  {
   "cell_type": "markdown",
   "id": "62957d50",
   "metadata": {
    "papermill": {
     "duration": 0.008206,
     "end_time": "2023-02-05T07:14:26.286460",
     "exception": false,
     "start_time": "2023-02-05T07:14:26.278254",
     "status": "completed"
    },
    "tags": []
   },
   "source": [
    "# Cleaning data"
   ]
  },
  {
   "cell_type": "code",
   "execution_count": 11,
   "id": "6b2c86b1",
   "metadata": {
    "execution": {
     "iopub.execute_input": "2023-02-05T07:14:26.305822Z",
     "iopub.status.busy": "2023-02-05T07:14:26.305434Z",
     "iopub.status.idle": "2023-02-05T07:14:26.318042Z",
     "shell.execute_reply": "2023-02-05T07:14:26.316281Z"
    },
    "papermill": {
     "duration": 0.025549,
     "end_time": "2023-02-05T07:14:26.320872",
     "exception": false,
     "start_time": "2023-02-05T07:14:26.295323",
     "status": "completed"
    },
    "tags": []
   },
   "outputs": [],
   "source": [
    "df = df_merge.drop([\"title\", \"subject\",\"date\"], axis = 1)"
   ]
  },
  {
   "cell_type": "code",
   "execution_count": 12,
   "id": "5cf15ef9",
   "metadata": {
    "execution": {
     "iopub.execute_input": "2023-02-05T07:14:26.339411Z",
     "iopub.status.busy": "2023-02-05T07:14:26.338810Z",
     "iopub.status.idle": "2023-02-05T07:14:26.357751Z",
     "shell.execute_reply": "2023-02-05T07:14:26.356007Z"
    },
    "papermill": {
     "duration": 0.030945,
     "end_time": "2023-02-05T07:14:26.360273",
     "exception": false,
     "start_time": "2023-02-05T07:14:26.329328",
     "status": "completed"
    },
    "tags": []
   },
   "outputs": [
    {
     "data": {
      "text/plain": [
       "text      0\n",
       "status    0\n",
       "dtype: int64"
      ]
     },
     "execution_count": 12,
     "metadata": {},
     "output_type": "execute_result"
    }
   ],
   "source": [
    "df.isnull().sum()"
   ]
  },
  {
   "cell_type": "code",
   "execution_count": 13,
   "id": "0802e363",
   "metadata": {
    "execution": {
     "iopub.execute_input": "2023-02-05T07:14:26.378205Z",
     "iopub.status.busy": "2023-02-05T07:14:26.377841Z",
     "iopub.status.idle": "2023-02-05T07:14:26.391007Z",
     "shell.execute_reply": "2023-02-05T07:14:26.389476Z"
    },
    "papermill": {
     "duration": 0.025452,
     "end_time": "2023-02-05T07:14:26.393889",
     "exception": false,
     "start_time": "2023-02-05T07:14:26.368437",
     "status": "completed"
    },
    "tags": []
   },
   "outputs": [],
   "source": [
    "df = df.sample(frac = 1)"
   ]
  },
  {
   "cell_type": "code",
   "execution_count": 14,
   "id": "f848d25a",
   "metadata": {
    "execution": {
     "iopub.execute_input": "2023-02-05T07:14:26.412323Z",
     "iopub.status.busy": "2023-02-05T07:14:26.411964Z",
     "iopub.status.idle": "2023-02-05T07:14:26.425590Z",
     "shell.execute_reply": "2023-02-05T07:14:26.424020Z"
    },
    "papermill": {
     "duration": 0.025723,
     "end_time": "2023-02-05T07:14:26.427921",
     "exception": false,
     "start_time": "2023-02-05T07:14:26.402198",
     "status": "completed"
    },
    "tags": []
   },
   "outputs": [],
   "source": [
    "df.reset_index(inplace = True)\n",
    "df.drop([\"index\"], axis = 1, inplace = True)"
   ]
  },
  {
   "cell_type": "code",
   "execution_count": 15,
   "id": "7b873b3a",
   "metadata": {
    "execution": {
     "iopub.execute_input": "2023-02-05T07:14:26.445903Z",
     "iopub.status.busy": "2023-02-05T07:14:26.445467Z",
     "iopub.status.idle": "2023-02-05T07:14:26.452899Z",
     "shell.execute_reply": "2023-02-05T07:14:26.451589Z"
    },
    "papermill": {
     "duration": 0.019262,
     "end_time": "2023-02-05T07:14:26.455295",
     "exception": false,
     "start_time": "2023-02-05T07:14:26.436033",
     "status": "completed"
    },
    "tags": []
   },
   "outputs": [
    {
     "data": {
      "text/plain": [
       "Index(['text', 'status'], dtype='object')"
      ]
     },
     "execution_count": 15,
     "metadata": {},
     "output_type": "execute_result"
    }
   ],
   "source": [
    "df.columns"
   ]
  },
  {
   "cell_type": "code",
   "execution_count": 16,
   "id": "d68c31f7",
   "metadata": {
    "execution": {
     "iopub.execute_input": "2023-02-05T07:14:26.473846Z",
     "iopub.status.busy": "2023-02-05T07:14:26.473441Z",
     "iopub.status.idle": "2023-02-05T07:14:26.483795Z",
     "shell.execute_reply": "2023-02-05T07:14:26.482440Z"
    },
    "papermill": {
     "duration": 0.022296,
     "end_time": "2023-02-05T07:14:26.486170",
     "exception": false,
     "start_time": "2023-02-05T07:14:26.463874",
     "status": "completed"
    },
    "tags": []
   },
   "outputs": [
    {
     "data": {
      "text/html": [
       "<div>\n",
       "<style scoped>\n",
       "    .dataframe tbody tr th:only-of-type {\n",
       "        vertical-align: middle;\n",
       "    }\n",
       "\n",
       "    .dataframe tbody tr th {\n",
       "        vertical-align: top;\n",
       "    }\n",
       "\n",
       "    .dataframe thead th {\n",
       "        text-align: right;\n",
       "    }\n",
       "</style>\n",
       "<table border=\"1\" class=\"dataframe\">\n",
       "  <thead>\n",
       "    <tr style=\"text-align: right;\">\n",
       "      <th></th>\n",
       "      <th>text</th>\n",
       "      <th>status</th>\n",
       "    </tr>\n",
       "  </thead>\n",
       "  <tbody>\n",
       "    <tr>\n",
       "      <th>0</th>\n",
       "      <td>(Reuters) - Maryland’s House of Delegates on M...</td>\n",
       "      <td>1</td>\n",
       "    </tr>\n",
       "    <tr>\n",
       "      <th>1</th>\n",
       "      <td>MOSCOW (Reuters) - Russian Deputy Foreign Mini...</td>\n",
       "      <td>1</td>\n",
       "    </tr>\n",
       "    <tr>\n",
       "      <th>2</th>\n",
       "      <td>40% of Americans have given up looking for wor...</td>\n",
       "      <td>0</td>\n",
       "    </tr>\n",
       "    <tr>\n",
       "      <th>3</th>\n",
       "      <td>Whether Republican nominee Donald Trump actual...</td>\n",
       "      <td>0</td>\n",
       "    </tr>\n",
       "    <tr>\n",
       "      <th>4</th>\n",
       "      <td>Republicans are repulsive people. This is a kn...</td>\n",
       "      <td>0</td>\n",
       "    </tr>\n",
       "  </tbody>\n",
       "</table>\n",
       "</div>"
      ],
      "text/plain": [
       "                                                text  status\n",
       "0  (Reuters) - Maryland’s House of Delegates on M...       1\n",
       "1  MOSCOW (Reuters) - Russian Deputy Foreign Mini...       1\n",
       "2  40% of Americans have given up looking for wor...       0\n",
       "3  Whether Republican nominee Donald Trump actual...       0\n",
       "4  Republicans are repulsive people. This is a kn...       0"
      ]
     },
     "execution_count": 16,
     "metadata": {},
     "output_type": "execute_result"
    }
   ],
   "source": [
    "df.head()"
   ]
  },
  {
   "cell_type": "code",
   "execution_count": 17,
   "id": "d2888bf0",
   "metadata": {
    "execution": {
     "iopub.execute_input": "2023-02-05T07:14:26.505343Z",
     "iopub.status.busy": "2023-02-05T07:14:26.505000Z",
     "iopub.status.idle": "2023-02-05T07:14:26.513042Z",
     "shell.execute_reply": "2023-02-05T07:14:26.511788Z"
    },
    "papermill": {
     "duration": 0.020157,
     "end_time": "2023-02-05T07:14:26.515175",
     "exception": false,
     "start_time": "2023-02-05T07:14:26.495018",
     "status": "completed"
    },
    "tags": []
   },
   "outputs": [],
   "source": [
    "def wp(text):\n",
    "    text = text.lower()\n",
    "    text = re.sub('\\[.*?\\]', '', text)\n",
    "    text = re.sub(\"\\\\W\",\" \",text) \n",
    "    text = re.sub('https?://\\S+|www\\.\\S+', '', text)\n",
    "    text = re.sub('<.*?>+', '', text)\n",
    "    text = re.sub('[%s]' % re.escape(string.punctuation), '', text)\n",
    "    text = re.sub('\\n', '', text)\n",
    "    text = re.sub('\\w*\\d\\w*', '', text)    \n",
    "    return text"
   ]
  },
  {
   "cell_type": "code",
   "execution_count": 18,
   "id": "a58d549a",
   "metadata": {
    "execution": {
     "iopub.execute_input": "2023-02-05T07:14:26.534905Z",
     "iopub.status.busy": "2023-02-05T07:14:26.534542Z",
     "iopub.status.idle": "2023-02-05T07:14:41.106504Z",
     "shell.execute_reply": "2023-02-05T07:14:41.104815Z"
    },
    "papermill": {
     "duration": 14.58486,
     "end_time": "2023-02-05T07:14:41.109367",
     "exception": false,
     "start_time": "2023-02-05T07:14:26.524507",
     "status": "completed"
    },
    "tags": []
   },
   "outputs": [],
   "source": [
    "df[\"text\"] = df[\"text\"].apply(wp)"
   ]
  },
  {
   "cell_type": "code",
   "execution_count": 19,
   "id": "537ba251",
   "metadata": {
    "execution": {
     "iopub.execute_input": "2023-02-05T07:14:41.128809Z",
     "iopub.status.busy": "2023-02-05T07:14:41.128438Z",
     "iopub.status.idle": "2023-02-05T07:14:41.133671Z",
     "shell.execute_reply": "2023-02-05T07:14:41.132462Z"
    },
    "papermill": {
     "duration": 0.017673,
     "end_time": "2023-02-05T07:14:41.135696",
     "exception": false,
     "start_time": "2023-02-05T07:14:41.118023",
     "status": "completed"
    },
    "tags": []
   },
   "outputs": [],
   "source": [
    "x = df[\"text\"]\n",
    "y = df[\"status\"]"
   ]
  },
  {
   "cell_type": "markdown",
   "id": "3ced3bac",
   "metadata": {
    "papermill": {
     "duration": 0.00815,
     "end_time": "2023-02-05T07:14:41.152276",
     "exception": false,
     "start_time": "2023-02-05T07:14:41.144126",
     "status": "completed"
    },
    "tags": []
   },
   "source": [
    "# Train test split"
   ]
  },
  {
   "cell_type": "code",
   "execution_count": 20,
   "id": "11d8b2e0",
   "metadata": {
    "execution": {
     "iopub.execute_input": "2023-02-05T07:14:41.171041Z",
     "iopub.status.busy": "2023-02-05T07:14:41.170687Z",
     "iopub.status.idle": "2023-02-05T07:14:41.183995Z",
     "shell.execute_reply": "2023-02-05T07:14:41.182623Z"
    },
    "papermill": {
     "duration": 0.025722,
     "end_time": "2023-02-05T07:14:41.186425",
     "exception": false,
     "start_time": "2023-02-05T07:14:41.160703",
     "status": "completed"
    },
    "tags": []
   },
   "outputs": [],
   "source": [
    "x_train, x_test, y_train, y_test = train_test_split(x, y, test_size=0.25,random_state=42)"
   ]
  },
  {
   "cell_type": "code",
   "execution_count": 21,
   "id": "26f24e72",
   "metadata": {
    "execution": {
     "iopub.execute_input": "2023-02-05T07:14:41.206103Z",
     "iopub.status.busy": "2023-02-05T07:14:41.205769Z",
     "iopub.status.idle": "2023-02-05T07:14:53.539977Z",
     "shell.execute_reply": "2023-02-05T07:14:53.538686Z"
    },
    "papermill": {
     "duration": 12.347192,
     "end_time": "2023-02-05T07:14:53.542287",
     "exception": false,
     "start_time": "2023-02-05T07:14:41.195095",
     "status": "completed"
    },
    "tags": []
   },
   "outputs": [],
   "source": [
    "from sklearn.feature_extraction.text import TfidfVectorizer\n",
    "\n",
    "vectorization = TfidfVectorizer()\n",
    "xv_train = vectorization.fit_transform(x_train)\n",
    "xv_test = vectorization.transform(x_test)"
   ]
  },
  {
   "cell_type": "markdown",
   "id": "f6a7391b",
   "metadata": {
    "papermill": {
     "duration": 0.007924,
     "end_time": "2023-02-05T07:14:53.558648",
     "exception": false,
     "start_time": "2023-02-05T07:14:53.550724",
     "status": "completed"
    },
    "tags": []
   },
   "source": [
    "# Applying LogisticRegression"
   ]
  },
  {
   "cell_type": "code",
   "execution_count": 22,
   "id": "6adaceb3",
   "metadata": {
    "execution": {
     "iopub.execute_input": "2023-02-05T07:14:53.576661Z",
     "iopub.status.busy": "2023-02-05T07:14:53.576300Z",
     "iopub.status.idle": "2023-02-05T07:15:00.105736Z",
     "shell.execute_reply": "2023-02-05T07:15:00.104693Z"
    },
    "papermill": {
     "duration": 6.541109,
     "end_time": "2023-02-05T07:15:00.107959",
     "exception": false,
     "start_time": "2023-02-05T07:14:53.566850",
     "status": "completed"
    },
    "tags": []
   },
   "outputs": [
    {
     "data": {
      "text/plain": [
       "LogisticRegression()"
      ]
     },
     "execution_count": 22,
     "metadata": {},
     "output_type": "execute_result"
    }
   ],
   "source": [
    "from sklearn.linear_model import LogisticRegression\n",
    "\n",
    "lr = LogisticRegression()\n",
    "lr.fit(xv_train,y_train)"
   ]
  },
  {
   "cell_type": "code",
   "execution_count": 23,
   "id": "846c70af",
   "metadata": {
    "execution": {
     "iopub.execute_input": "2023-02-05T07:15:00.137753Z",
     "iopub.status.busy": "2023-02-05T07:15:00.137386Z",
     "iopub.status.idle": "2023-02-05T07:15:00.147002Z",
     "shell.execute_reply": "2023-02-05T07:15:00.146227Z"
    },
    "papermill": {
     "duration": 0.028416,
     "end_time": "2023-02-05T07:15:00.149526",
     "exception": false,
     "start_time": "2023-02-05T07:15:00.121110",
     "status": "completed"
    },
    "tags": []
   },
   "outputs": [],
   "source": [
    "pred_lr=lr.predict(xv_test)"
   ]
  },
  {
   "cell_type": "code",
   "execution_count": 24,
   "id": "1e429632",
   "metadata": {
    "execution": {
     "iopub.execute_input": "2023-02-05T07:15:00.173388Z",
     "iopub.status.busy": "2023-02-05T07:15:00.172577Z",
     "iopub.status.idle": "2023-02-05T07:15:00.199808Z",
     "shell.execute_reply": "2023-02-05T07:15:00.198928Z"
    },
    "papermill": {
     "duration": 0.041712,
     "end_time": "2023-02-05T07:15:00.202378",
     "exception": false,
     "start_time": "2023-02-05T07:15:00.160666",
     "status": "completed"
    },
    "tags": []
   },
   "outputs": [
    {
     "name": "stdout",
     "output_type": "stream",
     "text": [
      "              precision    recall  f1-score   support\n",
      "\n",
      "           0       0.99      0.98      0.99      5917\n",
      "           1       0.98      0.99      0.98      5308\n",
      "\n",
      "    accuracy                           0.99     11225\n",
      "   macro avg       0.99      0.99      0.99     11225\n",
      "weighted avg       0.99      0.99      0.99     11225\n",
      "\n"
     ]
    }
   ],
   "source": [
    "print(classification_report(y_test, pred_lr))"
   ]
  },
  {
   "cell_type": "markdown",
   "id": "b8388d9c",
   "metadata": {
    "papermill": {
     "duration": 0.008764,
     "end_time": "2023-02-05T07:15:00.221388",
     "exception": false,
     "start_time": "2023-02-05T07:15:00.212624",
     "status": "completed"
    },
    "tags": []
   },
   "source": [
    "# Accuracy score : 98%"
   ]
  },
  {
   "cell_type": "code",
   "execution_count": 25,
   "id": "90566e25",
   "metadata": {
    "execution": {
     "iopub.execute_input": "2023-02-05T07:15:00.240512Z",
     "iopub.status.busy": "2023-02-05T07:15:00.240132Z",
     "iopub.status.idle": "2023-02-05T07:15:00.250395Z",
     "shell.execute_reply": "2023-02-05T07:15:00.249319Z"
    },
    "papermill": {
     "duration": 0.022481,
     "end_time": "2023-02-05T07:15:00.252619",
     "exception": false,
     "start_time": "2023-02-05T07:15:00.230138",
     "status": "completed"
    },
    "tags": []
   },
   "outputs": [
    {
     "data": {
      "text/plain": [
       "0.9857461024498887"
      ]
     },
     "execution_count": 25,
     "metadata": {},
     "output_type": "execute_result"
    }
   ],
   "source": [
    "accuracy_score(y_test, pred_lr)"
   ]
  },
  {
   "cell_type": "code",
   "execution_count": 26,
   "id": "67eb3d1d",
   "metadata": {
    "execution": {
     "iopub.execute_input": "2023-02-05T07:15:00.271850Z",
     "iopub.status.busy": "2023-02-05T07:15:00.271432Z",
     "iopub.status.idle": "2023-02-05T07:15:00.593472Z",
     "shell.execute_reply": "2023-02-05T07:15:00.592258Z"
    },
    "papermill": {
     "duration": 0.33439,
     "end_time": "2023-02-05T07:15:00.595834",
     "exception": false,
     "start_time": "2023-02-05T07:15:00.261444",
     "status": "completed"
    },
    "tags": []
   },
   "outputs": [
    {
     "name": "stderr",
     "output_type": "stream",
     "text": [
      "/opt/conda/lib/python3.7/site-packages/seaborn/_decorators.py:43: FutureWarning: Pass the following variables as keyword args: x, y. From version 0.12, the only valid positional argument will be `data`, and passing other arguments without an explicit keyword will result in an error or misinterpretation.\n",
      "  FutureWarning\n"
     ]
    },
    {
     "data": {
      "text/plain": [
       "<AxesSubplot:xlabel='status'>"
      ]
     },
     "execution_count": 26,
     "metadata": {},
     "output_type": "execute_result"
    },
    {
     "data": {
      "image/png": "[encoded data removed]",
      "text/plain": [
       "<Figure size 432x288 with 1 Axes>"
      ]
     },
     "metadata": {
      "needs_background": "light"
     },
     "output_type": "display_data"
    }
   ],
   "source": [
    "sns.barplot(y_test, pred_lr)"
   ]
  },
  {
   "cell_type": "code",
   "execution_count": null,
   "id": "e978d700",
   "metadata": {
    "papermill": {
     "duration": 0.009596,
     "end_time": "2023-02-05T07:15:00.616860",
     "exception": false,
     "start_time": "2023-02-05T07:15:00.607264",
     "status": "completed"
    },
    "tags": []
   },
   "outputs": [],
   "source": []
  }
 ],
 "metadata": {
  "kernelspec": {
   "display_name": "Python 3",
   "language": "python",
   "name": "python3"
  },
  "language_info": {
   "codemirror_mode": {
    "name": "ipython",
    "version": 3
   },
   "file_extension": ".py",
   "mimetype": "text/x-python",
   "name": "python",
   "nbconvert_exporter": "python",
   "pygments_lexer": "ipython3",
   "version": "3.7.12"
  },
  "papermill": {
   "default_parameters": {},
   "duration": 47.282379,
   "end_time": "2023-02-05T07:15:01.448814",
   "environment_variables": {},
   "exception": null,
   "input_path": "__notebook__.ipynb",
   "output_path": "__notebook__.ipynb",
   "parameters": {},
   "start_time": "2023-02-05T07:14:14.166435",
   "version": "2.3.4"
  }
 },
 "nbformat": 4,
 "nbformat_minor": 5
}
